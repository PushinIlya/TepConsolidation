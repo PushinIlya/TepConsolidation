{
 "cells": [
  {
   "cell_type": "code",
   "execution_count": null,
   "id": "13871616",
   "metadata": {},
   "outputs": [],
   "source": [
    "'''\n",
    "Скрипт для консолидации выгруженных из 1С ТЭП и их распределения по папкам \n",
    "в соответствии с периодом, по которому они сформированы\n",
    "'''\n",
    "# импортируем библиотеки и модули\n",
    "import numpy as np\n",
    "import pandas as pd\n",
    "import os\n",
    "import re\n",
    "import math\n",
    "import shutil\n",
    "import copy\n",
    "from itertools import groupby, chain\n",
    "from tqdm import tqdm\n",
    "from openpyxl import Workbook, load_workbook\n",
    "from openpyxl.utils.dataframe import dataframe_to_rows\n",
    "from openpyxl.styles.numbers import BUILTIN_FORMATS\n",
    "from openpyxl.styles import Alignment, Font, PatternFill\n",
    "from openpyxl.worksheet.table import Table, TableStyleInfo"
   ]
  },
  {
   "cell_type": "code",
   "execution_count": null,
   "id": "8b3d7a3d",
   "metadata": {},
   "outputs": [],
   "source": [
    "# запишем путь к папке с исходными данными в переменную\n",
    "source = os.path.join('C:',\n",
    "                      'Исходные данные')\n",
    "\n",
    "# создадим список с названиями всех файлов в папке с исходными данными с расширением .xlsx\n",
    "raw_data_name_list = [raw_data for raw_data in os.listdir(source) if raw_data.startswith('ТЭП') and\n",
    "                      raw_data.endswith('.xlsx')]\n",
    "\n",
    "print(f'Исходные данные: {raw_data_name_list}')"
   ]
  },
  {
   "cell_type": "code",
   "execution_count": null,
   "id": "319f72b6",
   "metadata": {},
   "outputs": [],
   "source": [
    "print('Выполнение скрипта \"tep_consolidation\" (консолидация ТЭП)')\n",
    "print(f'Чтение ТЭП из \"{source}\"')\n",
    "\n",
    "# создадим справочник из всех датафреймов в списке 'raw_data_name_list'\n",
    "all_raw_data = {raw_data:pd.read_excel(os.path.join(source, f'{raw_data}')) for raw_data in tqdm(raw_data_name_list)}"
   ]
  },
  {
   "cell_type": "code",
   "execution_count": null,
   "id": "66ea6d46",
   "metadata": {},
   "outputs": [],
   "source": [
    "# удалим столбцы, содержащие только пустые значения\n",
    "all_raw_data = {raw_data[0]: raw_data[1].dropna(axis=1, how='all', inplace=False) for raw_data in all_raw_data.items()}"
   ]
  },
  {
   "cell_type": "code",
   "execution_count": null,
   "id": "f210b03a",
   "metadata": {},
   "outputs": [],
   "source": [
    "# в первую строку первого столбца скопируем название первого столбца\n",
    "for key, value in all_raw_data.items():\n",
    "    value.iloc[0,0] = value.columns[0]"
   ]
  },
  {
   "cell_type": "code",
   "execution_count": null,
   "id": "42cec165",
   "metadata": {},
   "outputs": [],
   "source": [
    "# переименуем столбцы в каждом датафрейме\n",
    "for raw_data in all_raw_data.values():\n",
    "    raw_data.columns = list(range(0,10))"
   ]
  },
  {
   "cell_type": "code",
   "execution_count": null,
   "id": "380fb01c",
   "metadata": {},
   "outputs": [],
   "source": [
    "# разделим столбцы с суммами на 1000\n",
    "for raw_data in all_raw_data.values():\n",
    "    raw_data.iloc[4:, [2,3,4,6,7,8]] = raw_data.iloc[4:, [2,3,4,6,7,8]] / 1000"
   ]
  },
  {
   "cell_type": "code",
   "execution_count": null,
   "id": "b6b1abb2",
   "metadata": {},
   "outputs": [],
   "source": [
    "# создадим список 'source_file_path' и заполним его значениями путей к исходным файлам\n",
    "source_file_path = []\n",
    "for name in raw_data_name_list:\n",
    "    source_file_path.append(os.path.join(source, name))"
   ]
  },
  {
   "cell_type": "code",
   "execution_count": null,
   "id": "f7b7b5d5",
   "metadata": {},
   "outputs": [],
   "source": [
    "# объединим списки 'raw_data_name_list' и 'source_file_path'\n",
    "# в список кортежей с названием файла и путём к нему\n",
    "source_file = list(zip(raw_data_name_list, source_file_path))"
   ]
  },
  {
   "cell_type": "code",
   "execution_count": null,
   "id": "fa995f2b",
   "metadata": {},
   "outputs": [],
   "source": [
    "'''\n",
    "Цикл, который перезаписывает каждый файл из 'all_raw_data', чтобы сохранить внесённые ранее изменения в его структуру,\n",
    "а также сохраняет файл в формате xlsx в первоначальную папку\n",
    "'''\n",
    "print(f'Перезапись ТЭП из \"{source}\"')\n",
    "for raw_data in tqdm(all_raw_data.items()):\n",
    "    for file in source_file:\n",
    "        if raw_data[0] == file[0]:\n",
    "            raw_data[1].to_excel(file[1], header=False, index=False)"
   ]
  },
  {
   "cell_type": "code",
   "execution_count": null,
   "id": "9f40d330",
   "metadata": {},
   "outputs": [],
   "source": [
    "# создадим список с периодами формирования ТЭП для каждого файла\n",
    "period_list = []\n",
    "for raw_data in all_raw_data.values():\n",
    "    period_list.append(raw_data.iloc[1,2])"
   ]
  },
  {
   "cell_type": "code",
   "execution_count": null,
   "id": "c4e6a1bd",
   "metadata": {},
   "outputs": [],
   "source": [
    "def extract_month_year(text):\n",
    "    '''\n",
    "    Функция для извлечения месяца и года из строки\n",
    "    \\w+ - группа захвата символов, которые состоят из букв, цифр или символа подчёркивания и могут повторяться один или более раз\n",
    "    \\s - указывает на наличие пробела\n",
    "    \\d{4}) - группа захвата, представляющая четырехзначное число\n",
    "    '''\n",
    "    pattern = r'(\\w+\\s\\d{4})'\n",
    "    match = re.search(pattern, text)\n",
    "    if match:\n",
    "        return match.group(1)\n",
    "    else:\n",
    "        return None"
   ]
  },
  {
   "cell_type": "code",
   "execution_count": null,
   "id": "f48279c4",
   "metadata": {},
   "outputs": [],
   "source": [
    "# применим функцию 'extract_month_year'\n",
    "period_list = [extract_month_year(period) for period in period_list]"
   ]
  },
  {
   "cell_type": "code",
   "execution_count": null,
   "id": "c45fefcc",
   "metadata": {},
   "outputs": [],
   "source": [
    "# переименуем каждый датафрейм, оставив только название компании в имени\n",
    "all_raw_data = {raw_data[0][raw_data[0].rfind('_')+1:]: raw_data[1] for raw_data in all_raw_data.items()}"
   ]
  },
  {
   "cell_type": "code",
   "execution_count": null,
   "id": "56ba6ad4",
   "metadata": {},
   "outputs": [],
   "source": [
    "# удалим строки, содержащие только пустые значения\n",
    "all_raw_data = {raw_data[0]: raw_data[1].dropna(axis=0, how='all', inplace=False) for raw_data in all_raw_data.items()}"
   ]
  },
  {
   "cell_type": "code",
   "execution_count": null,
   "id": "d03ff099",
   "metadata": {},
   "outputs": [],
   "source": [
    "# функция для извлечения номера месяца по названию месяца\n",
    "def month_number(month_name):\n",
    "    months = {'январь': '01',\n",
    "              'февраль': '02', \n",
    "              'март': '03',\n",
    "              'апрель': '04', \n",
    "              'май': '05', \n",
    "              'июнь': '06',\n",
    "              'июль': '07',\n",
    "              'август': '08',\n",
    "              'сентябрь': '09',\n",
    "              'октябрь': '10', \n",
    "              'ноябрь': '11', \n",
    "              'декабрь': '12'}\n",
    "    month_number = months[month_name]\n",
    "    return month_number"
   ]
  },
  {
   "cell_type": "code",
   "execution_count": null,
   "id": "b0b82c29",
   "metadata": {},
   "outputs": [],
   "source": [
    "# удалим лишние строки в датафреймах\n",
    "all_raw_data = {raw_data[0]: raw_data[1][4:].reset_index(drop=True) for raw_data in all_raw_data.items()}"
   ]
  },
  {
   "cell_type": "code",
   "execution_count": null,
   "id": "14ce5119",
   "metadata": {},
   "outputs": [],
   "source": [
    "# словарь с именами столбцов и типами данных\n",
    "type_of_columns = {2: 'float64', \n",
    "                   3: 'float64', \n",
    "                   4: 'float64',\n",
    "                   5: 'float64', \n",
    "                   6: 'float64', \n",
    "                   7: 'float64', \n",
    "                   8: 'float64',\n",
    "                   9: 'float64'}"
   ]
  },
  {
   "cell_type": "code",
   "execution_count": null,
   "id": "53da30bc",
   "metadata": {},
   "outputs": [],
   "source": [
    "# изменим тип данных в каждом датафрейме в соответствии со словарём 'type_of_columns'\n",
    "all_raw_data = {raw_data[0]: raw_data[1].astype(type_of_columns) for raw_data in all_raw_data.items()}"
   ]
  },
  {
   "cell_type": "code",
   "execution_count": null,
   "id": "f4d30377",
   "metadata": {},
   "outputs": [],
   "source": [
    "# заполним значения в первом столбце вниз\n",
    "for key, value in all_raw_data.items():\n",
    "    value[0] = value[0].fillna(method='ffill', axis=0)"
   ]
  },
  {
   "cell_type": "code",
   "execution_count": null,
   "id": "79deb231",
   "metadata": {},
   "outputs": [],
   "source": [
    "# создадим списоки, куда добавим новые кодификаторы\n",
    "codificators_index = []\n",
    "codificators_values = []"
   ]
  },
  {
   "cell_type": "code",
   "execution_count": null,
   "id": "48697aed",
   "metadata": {},
   "outputs": [],
   "source": [
    "# цикл для заполнения списков с новыми кодификаторами\n",
    "for key, value in all_raw_data.items():\n",
    "    for index, element in enumerate(list(value[0])):\n",
    "        if list(value[0]).count(element) > 1:\n",
    "            codificators_index.append(index)\n",
    "            codificators_values.append(element)"
   ]
  },
  {
   "cell_type": "code",
   "execution_count": null,
   "id": "aad914b0",
   "metadata": {
    "scrolled": true
   },
   "outputs": [],
   "source": [
    "# разделим список 'codificator_values' на группы из повторяющихся значений\n",
    "codificators_values_groups = []\n",
    "for key, group in groupby(codificators_values):\n",
    "    codificators_values_groups.append(list(group))"
   ]
  },
  {
   "cell_type": "code",
   "execution_count": null,
   "id": "84bcfebb",
   "metadata": {},
   "outputs": [],
   "source": [
    "# с помощью циклов создадим новые кодификаторы\n",
    "for i in range(len(codificators_values_groups)):\n",
    "    for j in range(len(codificators_values_groups[i])):\n",
    "        codificators_values_groups[i][j] = codificators_values_groups[i][j] + str(j-1+1)+str('.')"
   ]
  },
  {
   "cell_type": "code",
   "execution_count": null,
   "id": "770f3ed9",
   "metadata": {},
   "outputs": [],
   "source": [
    "# преобразуем список списков 'codificators_values_groups' в список\n",
    "codificators_values_groups = list(chain.from_iterable(codificators_values_groups))"
   ]
  },
  {
   "cell_type": "code",
   "execution_count": null,
   "id": "06ead4e1",
   "metadata": {},
   "outputs": [],
   "source": [
    "# создадим словарь с индексами и значениями новых кодификаторов\n",
    "codificators = dict(zip(codificators_index, codificators_values_groups))"
   ]
  },
  {
   "cell_type": "code",
   "execution_count": null,
   "id": "f981c6cc",
   "metadata": {},
   "outputs": [],
   "source": [
    "# заполним столбец с № п/п новыми кодификаторами\n",
    "# пройдёмся циклом по каждой таблице в 'all_raw_data'\n",
    "for key, value in all_raw_data.items():\n",
    "    # пройдёмся циклом по каждому ключу в 'codificators'\n",
    "    for replace_index, replace_value in codificators.items():\n",
    "        # заменим значение в столбце '0' для строки с заданным индексом\n",
    "        value.loc[replace_index, 0] = replace_value"
   ]
  },
  {
   "cell_type": "code",
   "execution_count": null,
   "id": "c7f7b7ca",
   "metadata": {},
   "outputs": [],
   "source": [
    "# заменим '.0' на '' в столбце '0' в каждой таблице\n",
    "for key, value in all_raw_data.items():\n",
    "    value[0] = value[0].replace('\\.0', '', regex=True)"
   ]
  },
  {
   "cell_type": "code",
   "execution_count": null,
   "id": "8edd6461",
   "metadata": {},
   "outputs": [],
   "source": [
    "new_columns = ['№ п/п',\n",
    "               'Наименование показателя',\n",
    "               f'План ({period_list[0]}), тыс.руб.',\n",
    "               f'Факт ({period_list[0]}), тыс.руб.',\n",
    "               f'Отклонение ({period_list[0]}), тыс.руб.',\n",
    "               f'Отклонение ({period_list[0]}), %',\n",
    "               'План (Итого с начала года), тыс.руб.',\n",
    "               'Факт (Итого с начала года), тыс.руб.',\n",
    "               'Отклонение (Итого с начала года), тыс.руб.',\n",
    "               'Отклонение (Итого с начала года), %']\n",
    "# переименуем столбцы в каждой таблице\n",
    "for key, value in all_raw_data.items():\n",
    "    value.columns = new_columns"
   ]
  },
  {
   "cell_type": "code",
   "execution_count": null,
   "id": "f0f5b160",
   "metadata": {},
   "outputs": [],
   "source": [
    "# создадим столбец 'sort_column' для сортировки таблицы 'consolidated_data'\n",
    "for key, value in all_raw_data.items():\n",
    "    value['sort_column'] = value.index"
   ]
  },
  {
   "cell_type": "code",
   "execution_count": null,
   "id": "acecacaf",
   "metadata": {},
   "outputs": [],
   "source": [
    "# объединим данные по каждому датафрейму в единый датафрейм, путём суммирования построчно\n",
    "consolidated_data = (pd.concat(all_raw_data.values())\n",
    "                     .groupby(['№ п/п', 'Наименование показателя', 'sort_column'])\n",
    "                     .sum()\n",
    "                     .sort_values(['№ п/п'])\n",
    "                     .reset_index()\n",
    "                    )"
   ]
  },
  {
   "cell_type": "code",
   "execution_count": null,
   "id": "84973ab0",
   "metadata": {},
   "outputs": [],
   "source": [
    "# отсортируем таблицу 'consolidated_data'\n",
    "consolidated_data = consolidated_data.sort_values(by='sort_column').reset_index(drop=True)"
   ]
  },
  {
   "cell_type": "code",
   "execution_count": null,
   "id": "30b2a198",
   "metadata": {},
   "outputs": [],
   "source": [
    "# удалим столбец 'sort_column' в каждой таблице\n",
    "for key, value in all_raw_data.items():\n",
    "    value.drop('sort_column', axis=1, inplace=True)"
   ]
  },
  {
   "cell_type": "code",
   "execution_count": null,
   "id": "c0dcbb5d",
   "metadata": {},
   "outputs": [],
   "source": [
    "# удалим столбец 'sort_column'\n",
    "consolidated_data.drop('sort_column', axis=1, inplace=True)"
   ]
  },
  {
   "cell_type": "code",
   "execution_count": null,
   "id": "1c690f68",
   "metadata": {},
   "outputs": [],
   "source": [
    "# рассчитаем значения в столбце 'Отклонение (отн., %)' за месяц\n",
    "# рассчитаем значения в столбце 'Отклонение (отн., %)' за весь период\n",
    "consolidated_data[f'Отклонение ({period_list[0]}), %'] = consolidated_data[f'Отклонение ({period_list[0]}), тыс.руб.']/abs(consolidated_data[f'План ({period_list[0]}), тыс.руб.'])*100\n",
    "consolidated_data['Отклонение (Итого с начала года), %'] = consolidated_data['Отклонение (Итого с начала года), тыс.руб.']/abs(consolidated_data['План (Итого с начала года), тыс.руб.'])*100"
   ]
  },
  {
   "cell_type": "code",
   "execution_count": null,
   "id": "dc5c751c",
   "metadata": {},
   "outputs": [],
   "source": [
    "# при расчёте значений 'Отклонение (отн., %)' при делении на 0 получились бесконечные числа, заменим их на 100\n",
    "consolidated_data.replace([np.inf, -np.inf], 100, inplace=True)"
   ]
  },
  {
   "cell_type": "code",
   "execution_count": null,
   "id": "74fe251a",
   "metadata": {},
   "outputs": [],
   "source": [
    "# создадим excel файл 'Сводный_ТЭП' и добавим в него все датафреймы с исходными данными\n",
    "with pd.ExcelWriter(os.path.join(source, f'Сводный_ТЭП_{period_list[0]}.xlsx')) as source_file:\n",
    "    print(f'Создание листов excel из ТЭП')\n",
    "    for raw_data in tqdm(all_raw_data.items()):\n",
    "        raw_data[1].to_excel(source_file,\n",
    "                             sheet_name=raw_data[0][raw_data[0].rfind('_')+1:].replace('.xlsx', ''),\n",
    "                             header=True,\n",
    "                             index=False)"
   ]
  },
  {
   "cell_type": "code",
   "execution_count": null,
   "id": "732f608f",
   "metadata": {},
   "outputs": [],
   "source": [
    "book_path = os.path.join(source, f'Сводный_ТЭП_{period_list[0]}.xlsx') # создадим путь к итоговому excel файлу\n",
    "book = load_workbook(book_path) # загрузим excel файл для редактирования"
   ]
  },
  {
   "cell_type": "code",
   "execution_count": null,
   "id": "a389bdb8",
   "metadata": {},
   "outputs": [],
   "source": [
    "columns = ['A', 'B', 'C', 'D', 'E', 'F', 'G', 'H', 'I', 'J'] # создадим список столбцов, к которым будем обращаться"
   ]
  },
  {
   "cell_type": "code",
   "execution_count": null,
   "id": "7bcac94d",
   "metadata": {},
   "outputs": [],
   "source": [
    "# создадим новый лист\n",
    "new_sheet = book.create_sheet('Консолидация')\n",
    "\n",
    "# загрузим объединённый датафрейм на новый лист\n",
    "for row in dataframe_to_rows(consolidated_data, index=False, header=True):\n",
    "    new_sheet.append(row)"
   ]
  },
  {
   "cell_type": "code",
   "execution_count": null,
   "id": "544c0d95",
   "metadata": {},
   "outputs": [],
   "source": [
    "# создадим таблицы на каждом листе\n",
    "for sheet in book:\n",
    "    if sheet.title == 'Консолидация':\n",
    "        table = Table(displayName=sheet.title, ref=f'A1:J{sheet.max_row}') # создадим таблицу\n",
    "        style = TableStyleInfo(name='TableStyleLight13', # создадим стиль таблицы\n",
    "                               showFirstColumn=False,\n",
    "                               showLastColumn=False,\n",
    "                               showRowStripes=True,\n",
    "                               showColumnStripes=True)\n",
    "        table.tableStyleInfo = style # применим стиль\n",
    "        sheet.add_table(table) # добавим таблицу на лист\n",
    "    else:\n",
    "        table = Table(displayName=sheet.title, ref=f'A1:J{sheet.max_row}')\n",
    "        style = TableStyleInfo(name='TableStyleLight13',\n",
    "                               showFirstColumn=False,\n",
    "                               showLastColumn=False,\n",
    "                               showRowStripes=True,\n",
    "                               showColumnStripes=True)\n",
    "        table.tableStyleInfo = style\n",
    "        sheet.add_table(table)"
   ]
  },
  {
   "cell_type": "code",
   "execution_count": null,
   "id": "bebbc861",
   "metadata": {},
   "outputs": [],
   "source": [
    "# функция для группировки строк на каждом листе, кроме 'Консолидация' в excel файле на основе столбца '№ п/п'\n",
    "def rows_grouping(lvl):\n",
    "    # группировка 1-го уровня\n",
    "    # создадим список с индексами строк для группировки 1-го уровня\n",
    "    rows_start = {raw_data[0]: list(raw_data[1]['№ п/п']\n",
    "                                    .str.count('\\\\.')[lambda x: x == 1]\n",
    "                                    .index) \n",
    "                  for raw_data in all_raw_data.items()}\n",
    "        \n",
    "    # добавим в список с индексами строк для группировки 1-го уровня последнюю строку на листе,\n",
    "    # чтобы группировка была корректной \n",
    "    for raw_data in all_raw_data.items():\n",
    "        rows_start[raw_data[0]].append(list(raw_data[1]['№ п/п'].index)[-1])\n",
    "            \n",
    "    # создадим аналогичный список с индексами строк для группировки 1-го уровня,\n",
    "    # только смещённый на 1-ну позицию\n",
    "    rows_end = {raw_data[0]: rows_start[raw_data[0]][1:]\n",
    "                for raw_data in all_raw_data.items()}\n",
    "    # пересоздадим список с индексами строк для группировки 1-го уровня, так как до этого его изменили\n",
    "    rows_start = {raw_data[0]: list(raw_data[1]['№ п/п']\n",
    "                                    .str.count('\\\\.')[lambda x: x == 1]\n",
    "                                    .index)\n",
    "                  for raw_data in all_raw_data.items()}\n",
    "    # объединим оба списка в список кортежей\n",
    "    rows = {raw_data[0]: list(zip(rows_start[raw_data[0]], rows_end[raw_data[0]]))\n",
    "            for raw_data in all_raw_data.items()}\n",
    "\n",
    "    return rows"
   ]
  },
  {
   "cell_type": "code",
   "execution_count": null,
   "id": "6c053d23",
   "metadata": {},
   "outputs": [],
   "source": [
    "# функция для группировки строк в excel файле на основе столбца '№ п/п' на листе 'Консолидация'\n",
    "# код аналогичен функции 'rows_grouping'\n",
    "def rows_grouping_conso(lvl):\n",
    "    if lvl == 1:\n",
    "        rows_start = list(consolidated_data['№ п/п'].str.count('\\\\.')[lambda x: x == 1].index)\n",
    "        rows_start.append(list(consolidated_data['№ п/п'].index)[-1])\n",
    "    \n",
    "        rows_end = rows_start[1:]\n",
    "        rows_start = list(consolidated_data['№ п/п'].str.count('\\\\.')[lambda x: x == 1].index)\n",
    "        rows = list(zip(rows_start, rows_end))\n",
    "        \n",
    "        return rows"
   ]
  },
  {
   "cell_type": "code",
   "execution_count": null,
   "id": "584c5844",
   "metadata": {},
   "outputs": [],
   "source": [
    "# создадим для каждого уровня группировки на каждом листе, кроме 'Консолидация' список кортежей\n",
    "rows_1 = rows_grouping(1)\n",
    "# создадим для каждого уровня группировки на листе 'Консолидация' список кортежей\n",
    "rows_1_conso = rows_grouping_conso(1)"
   ]
  },
  {
   "cell_type": "code",
   "execution_count": null,
   "id": "d0f0bf0f",
   "metadata": {},
   "outputs": [],
   "source": [
    "# цикл для изменения ширины столбцов на каждом листе в excel файле\n",
    "for sheet in book:\n",
    "    for column in columns:\n",
    "        sheet.column_dimensions[column].width = 20\n",
    "    sheet.column_dimensions['B'].width = 65"
   ]
  },
  {
   "cell_type": "code",
   "execution_count": null,
   "id": "0b07aee2",
   "metadata": {},
   "outputs": [],
   "source": [
    "# цикл для изменения формата ячеек на каждом листе в excel файле\n",
    "for sheet in book:\n",
    "    for column in columns:\n",
    "        if column in ['A', 'B']:\n",
    "            for cell in sheet[column:column]:\n",
    "                sheet[cell.coordinate].number_format = BUILTIN_FORMATS[0]  \n",
    "        else:\n",
    "            for cell in sheet[column:column]:\n",
    "                sheet[cell.coordinate].number_format = BUILTIN_FORMATS[3]"
   ]
  },
  {
   "cell_type": "code",
   "execution_count": null,
   "id": "461487e3",
   "metadata": {},
   "outputs": [],
   "source": [
    "# цикл для изменения стиля и выравнивания ячеек на каждом листе в excel файле\n",
    "for sheet in book:\n",
    "    if sheet.title == 'Консолидация':\n",
    "        for column in columns:\n",
    "            # изменение параметров шрифта\n",
    "            sheet[f'{column}1'].font = Font(bold=True, \n",
    "                                            color='FFFFFFFF')\n",
    "            # изменение выравнивания\n",
    "            sheet[f'{column}1'].alignment = Alignment(horizontal='center',\n",
    "                                                      vertical='center',\n",
    "                                                      wrap_text=True)\n",
    "            \n",
    "            # изменение заливки и шрифта сгруппированных строк\n",
    "            for row in list(consolidated_data['№ п/п'][lambda x: x.str.count('\\\\.') == 1].index):\n",
    "                pattern_fill = PatternFill(fill_type='solid',\n",
    "                                           start_color='DAEEF3',\n",
    "                                           end_color='DAEEF3')\n",
    "                sheet[f'{column}{row+2}'].fill = pattern_fill # к строке добавляем 2 из-за смещения нумерации\n",
    "                sheet[f'{column}{row+2}'].font = Font(bold=True)\n",
    "        \n",
    "        # изменение выравнивания числовых ячеек\n",
    "        for cell_tuple in sheet[f'C2:J{sheet.max_row}']:\n",
    "            for cell in cell_tuple:\n",
    "                cell.alignment = Alignment(horizontal='center',\n",
    "                                           vertical='center')\n",
    "    else:\n",
    "        for column in columns:\n",
    "            # изменение параметров шрифта\n",
    "            sheet[f'{column}1'].font = Font(bold=True, \n",
    "                                            color='FFFFFFFF')\n",
    "            # изменение выравнивания\n",
    "            sheet[f'{column}1'].alignment = Alignment(horizontal='center',\n",
    "                                                      vertical='center',\n",
    "                                                      wrap_text=True)\n",
    "            \n",
    "        # изменение заливки и шрифта сгруппированных строк\n",
    "        for raw_data in all_raw_data.items():\n",
    "            rows_1 = list(raw_data[1]['№ п/п'].str.count('\\\\.')[lambda x: x == 1].index)\n",
    "            if raw_data[0].replace('.xlsx', '') == sheet.title:\n",
    "                for column in columns:\n",
    "                    for row in rows_1:\n",
    "                        patern_fill = PatternFill(fill_type='solid',\n",
    "                                                  start_color='DAEEF3',\n",
    "                                                  end_color='DAEEF3')\n",
    "                        sheet[f'{column}{row+2}'].fill = patern_fill # к строке добавляем 1 из-за смещения нумерации\n",
    "                        sheet[f'{column}{row+2}'].font = Font(bold=True)\n",
    "\n",
    "        # изменение выравнивания числовых ячеек\n",
    "        for cell_tuple in sheet[f'C2:J{sheet.max_row}']:\n",
    "            for cell in cell_tuple:\n",
    "                cell.alignment = Alignment(horizontal='center',\n",
    "                                           vertical='center')"
   ]
  },
  {
   "cell_type": "code",
   "execution_count": null,
   "id": "faa51f8c",
   "metadata": {},
   "outputs": [],
   "source": [
    "# цикл для изменения отступа ячеек на каждом листе в excel файле\n",
    "for sheet in book:\n",
    "    if sheet.title == 'Консолидация':\n",
    "        rows_1 = list(consolidated_data['№ п/п'].str.count('\\\\.')[lambda x: x == 2].index)\n",
    "        for row in rows_1:\n",
    "            sheet[f'B{row+2}'].alignment = Alignment(indent=1) # к строке добавляем 2 из-за смещения нумерации\n",
    "    else:\n",
    "        rows_1 = list(all_raw_data[f'{sheet.title}.xlsx']['№ п/п'].str.count('\\\\.')[lambda x: x == 2].index)\n",
    "        for row in rows_1:\n",
    "            sheet[f'B{row+2}'].alignment = Alignment(indent=1) # к строке добавляем 2 из-за смещения нумерации"
   ]
  },
  {
   "cell_type": "code",
   "execution_count": null,
   "id": "ba2beb2c",
   "metadata": {},
   "outputs": [],
   "source": [
    "book.save(book_path) # сохраним excel файл"
   ]
  },
  {
   "cell_type": "code",
   "execution_count": null,
   "id": "3abeedf9",
   "metadata": {},
   "outputs": [],
   "source": [
    "# создадим список с расположением новых папок\n",
    "folder_location = os.path.join(source,\n",
    "                               period_list[0][-4:],\n",
    "                               f'{month_number(str.lower(period_list[0][:-5]))}_{str.lower(period_list[0][:-5])}')\n",
    "# создаются только те папки, которые до этого не существовали\n",
    "if not os.path.exists(folder_location):\n",
    "    os.makedirs(folder_location)"
   ]
  },
  {
   "cell_type": "code",
   "execution_count": null,
   "id": "02921176",
   "metadata": {
    "scrolled": true
   },
   "outputs": [],
   "source": [
    "print(f'Распределение ТЭП и итогового файла из \"{source}\" по папкам')\n",
    "# скопируем итоговый файл с расширением .xlsx в новую папку\n",
    "shutil.copy(book_path, folder_location)\n",
    "# удалим итоговый файл с расширением .xlsx из первоначальной папки\n",
    "os.remove(book_path)\n",
    "\n",
    "# цикл, который копирует каждый файл из 'raw_data_list' в новую папку и удаляет его из папки c исходными данными\n",
    "for name in tqdm(raw_data_name_list):\n",
    "    # скопируем исходные данные с расширением .xlsx в новую папку\n",
    "    shutil.copy(os.path.join(source, name), folder_location)\n",
    "    # удалим исходные данные с расширением .xlsx из первоначальной папки\n",
    "    os.remove(os.path.join(source, name))"
   ]
  }
 ],
 "metadata": {
  "kernelspec": {
   "display_name": "Python 3 (ipykernel)",
   "language": "python",
   "name": "python3"
  },
  "language_info": {
   "codemirror_mode": {
    "name": "ipython",
    "version": 3
   },
   "file_extension": ".py",
   "mimetype": "text/x-python",
   "name": "python",
   "nbconvert_exporter": "python",
   "pygments_lexer": "ipython3",
   "version": "3.9.13"
  }
 },
 "nbformat": 4,
 "nbformat_minor": 5
}
